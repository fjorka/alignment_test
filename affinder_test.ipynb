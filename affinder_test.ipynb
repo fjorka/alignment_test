{
 "cells": [
  {
   "cell_type": "code",
   "execution_count": 19,
   "id": "28eaec5b",
   "metadata": {},
   "outputs": [],
   "source": [
    "from skimage import data, transform\n",
    "import napari\n",
    "import numpy as np\n",
    "import pandas as pd"
   ]
  },
  {
   "cell_type": "code",
   "execution_count": 20,
   "id": "dbd0a889",
   "metadata": {},
   "outputs": [
    {
     "data": {
      "text/plain": [
       "'0.19.2'"
      ]
     },
     "execution_count": 20,
     "metadata": {},
     "output_type": "execute_result"
    }
   ],
   "source": [
    "import skimage\n",
    "skimage.__version__"
   ]
  },
  {
   "cell_type": "code",
   "execution_count": 21,
   "id": "ffa28722",
   "metadata": {},
   "outputs": [
    {
     "name": "stderr",
     "output_type": "stream",
     "text": [
      "C:\\Users\\kmkedz\\.conda\\envs\\napari-tests\\lib\\site-packages\\napari_tools_menu\\__init__.py:165: FutureWarning: Public access to Window.qt_viewer is deprecated and will be removed in\n",
      "v0.5.0. It is considered an \"implementation detail\" of the napari\n",
      "application, not part of the napari viewer model. If your use case\n",
      "requires access to qt_viewer, please open an issue to discuss.\n",
      "  self.tools_menu = ToolsMenu(self, self.qt_viewer.viewer)\n",
      "C:\\Users\\kmkedz\\.conda\\envs\\napari-tests\\lib\\site-packages\\affinder\\affinder.py:28: FutureWarning: Private attribute access ('Viewer._canvas_size') in this context (e.g. inside a plugin widget or dock widget) is deprecated and will be unavailable in version 0.5.0\n",
      "  viewer.camera.zoom = np.min(viewer._canvas_size) / np.max(size)\n",
      "C:\\Users\\kmkedz\\.conda\\envs\\napari-tests\\lib\\site-packages\\numpy\\core\\numeric.py:2446: FutureWarning: elementwise comparison failed; returning scalar instead, but in the future will perform elementwise comparison\n",
      "  return bool(asarray(a1 == a2).all())\n",
      "C:\\Users\\kmkedz\\.conda\\envs\\napari-tests\\lib\\site-packages\\numpy\\core\\numeric.py:2446: FutureWarning: elementwise comparison failed; returning scalar instead, but in the future will perform elementwise comparison\n",
      "  return bool(asarray(a1 == a2).all())\n",
      "C:\\Users\\kmkedz\\.conda\\envs\\napari-tests\\lib\\site-packages\\affinder\\affinder.py:28: FutureWarning: Private attribute access ('Viewer._canvas_size') in this context (e.g. inside a plugin widget or dock widget) is deprecated and will be unavailable in version 0.5.0\n",
      "  viewer.camera.zoom = np.min(viewer._canvas_size) / np.max(size)\n",
      "C:\\Users\\kmkedz\\.conda\\envs\\napari-tests\\lib\\site-packages\\affinder\\affinder.py:28: FutureWarning: Private attribute access ('Viewer._canvas_size') in this context (e.g. inside a plugin widget or dock widget) is deprecated and will be unavailable in version 0.5.0\n",
      "  viewer.camera.zoom = np.min(viewer._canvas_size) / np.max(size)\n"
     ]
    }
   ],
   "source": [
    "image0 = data.camera()\n",
    "image1 = transform.rotate(image0, 60)\n",
    "\n",
    "viewer = napari.Viewer()\n",
    "l0 = viewer.add_image(image0, colormap='green', blending='additive')\n",
    "l1 = viewer.add_image(image1, colormap='magenta', blending='additive')"
   ]
  },
  {
   "cell_type": "markdown",
   "id": "01bcc04f",
   "metadata": {},
   "source": [
    "Using Affinder GUI:\n",
    "\n",
    "1. Start affinder \n",
    "2. Select layers for 'reference' (image0) and 'moving'(image1)\n",
    "3. model - 'similarity'\n",
    "4. choose output file\n",
    "5. click points"
   ]
  },
  {
   "cell_type": "code",
   "execution_count": 22,
   "id": "5c20d0f1",
   "metadata": {},
   "outputs": [
    {
     "data": {
      "text/plain": [
       "array([[147.0711775 , 326.13620387],\n",
       "       [166.86731107, 249.65114236],\n",
       "       [125.47539543, 184.86379613]])"
      ]
     },
     "execution_count": 22,
     "metadata": {},
     "output_type": "execute_result"
    }
   ],
   "source": [
    "p1 = viewer.layers['image0_pts'].data\n",
    "p1"
   ]
  },
  {
   "cell_type": "code",
   "execution_count": 23,
   "id": "53b71aec",
   "metadata": {},
   "outputs": [
    {
     "data": {
      "text/plain": [
       "array([[142.57205624, 197.46133568],\n",
       "       [213.65817223, 176.76537786],\n",
       "       [247.85149385, 110.17838313]])"
      ]
     },
     "execution_count": 23,
     "metadata": {},
     "output_type": "execute_result"
    }
   ],
   "source": [
    "p2 = viewer.layers['image1_pts'].data\n",
    "p2"
   ]
  },
  {
   "cell_type": "code",
   "execution_count": 24,
   "id": "f7ae2c34",
   "metadata": {},
   "outputs": [],
   "source": [
    "tf = transform.estimate_transform('similarity', p2, p1)"
   ]
  },
  {
   "cell_type": "code",
   "execution_count": 25,
   "id": "ee8f3ae2",
   "metadata": {},
   "outputs": [
    {
     "data": {
      "text/plain": [
       "<SimilarityTransform(matrix=\n",
       "    [[   0.53533761,    0.89828205, -106.36872802],\n",
       "     [  -0.89828205,    0.53533761,  347.98888086],\n",
       "     [   0.        ,    0.        ,    1.        ]]) at 0x1af8922d310>"
      ]
     },
     "execution_count": 25,
     "metadata": {},
     "output_type": "execute_result"
    }
   ],
   "source": [
    "tf"
   ]
  },
  {
   "cell_type": "code",
   "execution_count": 26,
   "id": "6b3539fa",
   "metadata": {},
   "outputs": [
    {
     "data": {
      "text/plain": [
       "array([[   0.53533761,    0.89828205, -106.36872802],\n",
       "       [  -0.89828205,    0.53533761,  347.98888086],\n",
       "       [   0.        ,    0.        ,    1.        ]])"
      ]
     },
     "execution_count": 26,
     "metadata": {},
     "output_type": "execute_result"
    }
   ],
   "source": [
    "test_mat = np.loadtxt(r'D:\\test_mat.txt',delimiter=',')\n",
    "test_mat"
   ]
  },
  {
   "cell_type": "markdown",
   "id": "84a734af",
   "metadata": {},
   "source": [
    "tf is identical with the matrix saved by Affinder"
   ]
  },
  {
   "cell_type": "code",
   "execution_count": 27,
   "id": "48e43889",
   "metadata": {},
   "outputs": [],
   "source": [
    "im_alig = transform.warp(image1,tf)"
   ]
  },
  {
   "cell_type": "code",
   "execution_count": 28,
   "id": "c98a099d",
   "metadata": {},
   "outputs": [
    {
     "data": {
      "text/plain": [
       "<Image layer 'im_alig' at 0x1af99ef4700>"
      ]
     },
     "execution_count": 28,
     "metadata": {},
     "output_type": "execute_result"
    }
   ],
   "source": [
    "viewer.add_image(im_alig, colormap='green', blending='additive')"
   ]
  },
  {
   "cell_type": "code",
   "execution_count": 29,
   "id": "c0a24b59",
   "metadata": {},
   "outputs": [
    {
     "data": {
      "text/plain": [
       "(512, 512)"
      ]
     },
     "execution_count": 29,
     "metadata": {},
     "output_type": "execute_result"
    }
   ],
   "source": [
    "im_alig.shape"
   ]
  },
  {
   "cell_type": "code",
   "execution_count": 30,
   "id": "d83cbadb",
   "metadata": {},
   "outputs": [
    {
     "data": {
      "text/plain": [
       "(512, 512)"
      ]
     },
     "execution_count": 30,
     "metadata": {},
     "output_type": "execute_result"
    }
   ],
   "source": [
    "image0.shape"
   ]
  },
  {
   "cell_type": "code",
   "execution_count": null,
   "id": "21f87085",
   "metadata": {},
   "outputs": [],
   "source": []
  }
 ],
 "metadata": {
  "kernelspec": {
   "display_name": "Python 3 (ipykernel)",
   "language": "python",
   "name": "python3"
  },
  "language_info": {
   "codemirror_mode": {
    "name": "ipython",
    "version": 3
   },
   "file_extension": ".py",
   "mimetype": "text/x-python",
   "name": "python",
   "nbconvert_exporter": "python",
   "pygments_lexer": "ipython3",
   "version": "3.9.10"
  }
 },
 "nbformat": 4,
 "nbformat_minor": 5
}
