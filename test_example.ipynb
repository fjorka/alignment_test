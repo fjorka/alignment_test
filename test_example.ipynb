{
 "cells": [
  {
   "cell_type": "code",
   "execution_count": 1,
   "id": "f8e1412c",
   "metadata": {},
   "outputs": [
    {
     "name": "stderr",
     "output_type": "stream",
     "text": [
      "C:\\Users\\kmkedz\\.conda\\envs\\napari-tests\\lib\\site-packages\\napari_tools_menu\\__init__.py:165: FutureWarning: Public access to Window.qt_viewer is deprecated and will be removed in\n",
      "v0.5.0. It is considered an \"implementation detail\" of the napari\n",
      "application, not part of the napari viewer model. If your use case\n",
      "requires access to qt_viewer, please open an issue to discuss.\n",
      "  self.tools_menu = ToolsMenu(self, self.qt_viewer.viewer)\n"
     ]
    },
    {
     "ename": "KeyError",
     "evalue": "\"Plugin 'affinder' does not provide a widget named 'Start affinder'\"",
     "output_type": "error",
     "traceback": [
      "\u001b[1;31m---------------------------------------------------------------------------\u001b[0m",
      "\u001b[1;31mKeyError\u001b[0m                                  Traceback (most recent call last)",
      "Input \u001b[1;32mIn [1]\u001b[0m, in \u001b[0;36m<cell line: 12>\u001b[1;34m()\u001b[0m\n\u001b[0;32m      9\u001b[0m l0 \u001b[38;5;241m=\u001b[39m viewer\u001b[38;5;241m.\u001b[39madd_image(image0, colormap\u001b[38;5;241m=\u001b[39m\u001b[38;5;124m'\u001b[39m\u001b[38;5;124mgreen\u001b[39m\u001b[38;5;124m'\u001b[39m, blending\u001b[38;5;241m=\u001b[39m\u001b[38;5;124m'\u001b[39m\u001b[38;5;124madditive\u001b[39m\u001b[38;5;124m'\u001b[39m)\n\u001b[0;32m     10\u001b[0m l1 \u001b[38;5;241m=\u001b[39m viewer\u001b[38;5;241m.\u001b[39madd_image(image1, colormap\u001b[38;5;241m=\u001b[39m\u001b[38;5;124m'\u001b[39m\u001b[38;5;124mmagenta\u001b[39m\u001b[38;5;124m'\u001b[39m, blending\u001b[38;5;241m=\u001b[39m\u001b[38;5;124m'\u001b[39m\u001b[38;5;124madditive\u001b[39m\u001b[38;5;124m'\u001b[39m)\n\u001b[1;32m---> 12\u001b[0m qtwidget, widget \u001b[38;5;241m=\u001b[39m \u001b[43mviewer\u001b[49m\u001b[38;5;241;43m.\u001b[39;49m\u001b[43mwindow\u001b[49m\u001b[38;5;241;43m.\u001b[39;49m\u001b[43madd_plugin_dock_widget\u001b[49m\u001b[43m(\u001b[49m\n\u001b[0;32m     13\u001b[0m \u001b[43m        \u001b[49m\u001b[38;5;124;43m'\u001b[39;49m\u001b[38;5;124;43maffinder\u001b[39;49m\u001b[38;5;124;43m'\u001b[39;49m\u001b[43m,\u001b[49m\u001b[43m \u001b[49m\u001b[38;5;124;43m'\u001b[39;49m\u001b[38;5;124;43mStart affinder\u001b[39;49m\u001b[38;5;124;43m'\u001b[39;49m\n\u001b[0;32m     14\u001b[0m \u001b[43m        \u001b[49m\u001b[43m)\u001b[49m\n\u001b[0;32m     15\u001b[0m widget\u001b[38;5;241m.\u001b[39mreference\u001b[38;5;241m.\u001b[39mbind(l0)\n\u001b[0;32m     16\u001b[0m widget\u001b[38;5;241m.\u001b[39mmoving\u001b[38;5;241m.\u001b[39mbind(l1)\n",
      "File \u001b[1;32m~\\AppData\\Roaming\\Python\\Python39\\site-packages\\napari\\_qt\\qt_main_window.py:669\u001b[0m, in \u001b[0;36mWindow.add_plugin_dock_widget\u001b[1;34m(self, plugin_name, widget_name)\u001b[0m\n\u001b[0;32m    666\u001b[0m     Widget, widget_name \u001b[38;5;241m=\u001b[39m result\n\u001b[0;32m    668\u001b[0m \u001b[38;5;28;01mif\u001b[39;00m Widget \u001b[38;5;129;01mis\u001b[39;00m \u001b[38;5;28;01mNone\u001b[39;00m:\n\u001b[1;32m--> 669\u001b[0m     Widget, dock_kwargs \u001b[38;5;241m=\u001b[39m \u001b[43mplugin_manager\u001b[49m\u001b[38;5;241;43m.\u001b[39;49m\u001b[43mget_widget\u001b[49m\u001b[43m(\u001b[49m\n\u001b[0;32m    670\u001b[0m \u001b[43m        \u001b[49m\u001b[43mplugin_name\u001b[49m\u001b[43m,\u001b[49m\u001b[43m \u001b[49m\u001b[43mwidget_name\u001b[49m\n\u001b[0;32m    671\u001b[0m \u001b[43m    \u001b[49m\u001b[43m)\u001b[49m\n\u001b[0;32m    672\u001b[0m \u001b[38;5;28;01mif\u001b[39;00m \u001b[38;5;129;01mnot\u001b[39;00m widget_name:\n\u001b[0;32m    673\u001b[0m     \u001b[38;5;66;03m# if widget_name wasn't provided, `get_widget` will have\u001b[39;00m\n\u001b[0;32m    674\u001b[0m     \u001b[38;5;66;03m# ensured that there is a single widget available.\u001b[39;00m\n\u001b[0;32m    675\u001b[0m     widget_name \u001b[38;5;241m=\u001b[39m \u001b[38;5;28mlist\u001b[39m(plugin_manager\u001b[38;5;241m.\u001b[39m_dock_widgets[plugin_name])[\u001b[38;5;241m0\u001b[39m]\n",
      "File \u001b[1;32m~\\AppData\\Roaming\\Python\\Python39\\site-packages\\napari\\plugins\\_plugin_manager.py:622\u001b[0m, in \u001b[0;36mNapariPluginManager.get_widget\u001b[1;34m(self, plugin_name, widget_name)\u001b[0m\n\u001b[0;32m    615\u001b[0m     \u001b[38;5;28;01mif\u001b[39;00m widget_name \u001b[38;5;129;01mnot\u001b[39;00m \u001b[38;5;129;01min\u001b[39;00m plg_wdgs:\n\u001b[0;32m    616\u001b[0m         msg \u001b[38;5;241m=\u001b[39m trans\u001b[38;5;241m.\u001b[39m_(\n\u001b[0;32m    617\u001b[0m             \u001b[38;5;124m'\u001b[39m\u001b[38;5;124mPlugin \u001b[39m\u001b[38;5;132;01m{plugin_name!r}\u001b[39;00m\u001b[38;5;124m does not provide a widget named \u001b[39m\u001b[38;5;132;01m{widget_name!r}\u001b[39;00m\u001b[38;5;124m'\u001b[39m,\n\u001b[0;32m    618\u001b[0m             plugin_name\u001b[38;5;241m=\u001b[39mplugin_name,\n\u001b[0;32m    619\u001b[0m             widget_name\u001b[38;5;241m=\u001b[39mwidget_name,\n\u001b[0;32m    620\u001b[0m             deferred\u001b[38;5;241m=\u001b[39m\u001b[38;5;28;01mTrue\u001b[39;00m,\n\u001b[0;32m    621\u001b[0m         )\n\u001b[1;32m--> 622\u001b[0m         \u001b[38;5;28;01mraise\u001b[39;00m \u001b[38;5;167;01mKeyError\u001b[39;00m(msg)\n\u001b[0;32m    624\u001b[0m \u001b[38;5;28;01mreturn\u001b[39;00m plg_wdgs[widget_name]\n",
      "\u001b[1;31mKeyError\u001b[0m: \"Plugin 'affinder' does not provide a widget named 'Start affinder'\""
     ]
    }
   ],
   "source": [
    "from skimage import data, transform\n",
    "import napari\n",
    "import numpy as np\n",
    "\n",
    "image0 = data.camera()\n",
    "image1 = transform.rotate(image0[100:, 32:496], 60)\n",
    "\n",
    "viewer = napari.Viewer()\n",
    "l0 = viewer.add_image(image0, colormap='green', blending='additive')\n",
    "l1 = viewer.add_image(image1, colormap='magenta', blending='additive')\n",
    "\n",
    "qtwidget, widget = viewer.window.add_plugin_dock_widget(\n",
    "        'affinder', 'Start affinder'\n",
    "        )\n",
    "widget.reference.bind(l0)\n",
    "widget.moving.bind(l1)\n",
    "widget()\n",
    "\n",
    "viewer.layers['image0_pts'].data = np.array([[148.19396647, 234.87779732],\n",
    "                                             [484.56804381, 240.55720892],\n",
    "                                             [474.77521025, 385.88403205]])\n",
    "viewer.layers['image1_pts'].data = np.array([[150.02534429, 80.65355322],\n",
    "                                             [314.75696913, 375.13825634],\n",
    "                                             [184.33085012, 439.81718637]])\n",
    "\n",
    "napari.run()"
   ]
  },
  {
   "cell_type": "code",
   "execution_count": null,
   "id": "77fb7f48",
   "metadata": {},
   "outputs": [],
   "source": []
  }
 ],
 "metadata": {
  "kernelspec": {
   "display_name": "Python 3 (ipykernel)",
   "language": "python",
   "name": "python3"
  },
  "language_info": {
   "codemirror_mode": {
    "name": "ipython",
    "version": 3
   },
   "file_extension": ".py",
   "mimetype": "text/x-python",
   "name": "python",
   "nbconvert_exporter": "python",
   "pygments_lexer": "ipython3",
   "version": "3.9.10"
  }
 },
 "nbformat": 4,
 "nbformat_minor": 5
}
